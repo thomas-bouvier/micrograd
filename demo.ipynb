{
 "cells": [
  {
   "cell_type": "markdown",
   "metadata": {},
   "source": [
    "# Micrograd"
   ]
  },
  {
   "cell_type": "markdown",
   "metadata": {},
   "source": [
    "This notebook follows karpathy's video [here](https://www.youtube.com/watch?v=VMj-3S1tku0)."
   ]
  },
  {
   "cell_type": "code",
   "execution_count": 249,
   "metadata": {},
   "outputs": [],
   "source": [
    "import math\n",
    "import numpy as np\n",
    "import matplotlib.pyplot as plt\n",
    "%matplotlib inline"
   ]
  },
  {
   "cell_type": "code",
   "execution_count": 250,
   "metadata": {},
   "outputs": [],
   "source": [
    "def f(x):\n",
    "    return 3*x**2 - 4*x + 5"
   ]
  },
  {
   "cell_type": "code",
   "execution_count": 251,
   "metadata": {},
   "outputs": [
    {
     "data": {
      "text/plain": [
       "20.0"
      ]
     },
     "execution_count": 251,
     "metadata": {},
     "output_type": "execute_result"
    }
   ],
   "source": [
    "f(3.0)"
   ]
  },
  {
   "cell_type": "code",
   "execution_count": 252,
   "metadata": {},
   "outputs": [
    {
     "data": {
      "text/plain": [
       "array([-5.  , -4.75, -4.5 , -4.25, -4.  , -3.75, -3.5 , -3.25, -3.  ,\n",
       "       -2.75, -2.5 , -2.25, -2.  , -1.75, -1.5 , -1.25, -1.  , -0.75,\n",
       "       -0.5 , -0.25,  0.  ,  0.25,  0.5 ,  0.75,  1.  ,  1.25,  1.5 ,\n",
       "        1.75,  2.  ,  2.25,  2.5 ,  2.75,  3.  ,  3.25,  3.5 ,  3.75,\n",
       "        4.  ,  4.25,  4.5 ,  4.75])"
      ]
     },
     "execution_count": 252,
     "metadata": {},
     "output_type": "execute_result"
    }
   ],
   "source": [
    "xs = np.arange(-5, 5, .25)\n",
    "xs"
   ]
  },
  {
   "cell_type": "code",
   "execution_count": 253,
   "metadata": {},
   "outputs": [
    {
     "data": {
      "text/plain": [
       "[<matplotlib.lines.Line2D at 0x7fffa394daf0>]"
      ]
     },
     "execution_count": 253,
     "metadata": {},
     "output_type": "execute_result"
    },
    {
     "data": {
      "image/png": "[encoded data removed]",
      "text/plain": [
       "<Figure size 640x480 with 1 Axes>"
      ]
     },
     "metadata": {},
     "output_type": "display_data"
    }
   ],
   "source": [
    "ys = f(xs)\n",
    "plt.plot(xs, ys)"
   ]
  },
  {
   "cell_type": "code",
   "execution_count": 254,
   "metadata": {},
   "outputs": [
    {
     "data": {
      "text/plain": [
       "14.00300000000243"
      ]
     },
     "execution_count": 254,
     "metadata": {},
     "output_type": "execute_result"
    }
   ],
   "source": [
    "h = .001\n",
    "x = 3.0\n",
    "(f(x + h) - f(x)) / h # numerical approx of the slope"
   ]
  },
  {
   "cell_type": "code",
   "execution_count": 255,
   "metadata": {},
   "outputs": [
    {
     "data": {
      "text/plain": [
       "4.0"
      ]
     },
     "execution_count": 255,
     "metadata": {},
     "output_type": "execute_result"
    }
   ],
   "source": [
    "a = 2.0\n",
    "b = -3.0\n",
    "c = 10.0\n",
    "d = a * b + c\n",
    "d"
   ]
  },
  {
   "cell_type": "markdown",
   "metadata": {},
   "source": [
    "The following computes the slope. The result is b."
   ]
  },
  {
   "cell_type": "code",
   "execution_count": 256,
   "metadata": {},
   "outputs": [
    {
     "name": "stdout",
     "output_type": "stream",
     "text": [
      "d1 4.0\n",
      "d2 3.9999699999999994\n",
      "slope -3.000000000064062\n"
     ]
    }
   ],
   "source": [
    "h = .00001\n",
    "\n",
    "# inputs\n",
    "a = 2.0\n",
    "b = -3.0\n",
    "c = 10.0\n",
    "\n",
    "d1 = a * b + c\n",
    "a += h\n",
    "d2 = a * b + c\n",
    "\n",
    "print(\"d1\", d1)\n",
    "print(\"d2\", d2)\n",
    "print(\"slope\", (d2 - d1) / h)"
   ]
  },
  {
   "cell_type": "code",
   "execution_count": 257,
   "metadata": {},
   "outputs": [
    {
     "name": "stdout",
     "output_type": "stream",
     "text": [
      "d1 4.0\n",
      "d2 4.00002\n",
      "slope 2.0000000000131024\n"
     ]
    }
   ],
   "source": [
    "h = .00001\n",
    "\n",
    "# inputs\n",
    "a = 2.0\n",
    "b = -3.0\n",
    "c = 10.0\n",
    "\n",
    "d1 = a * b + c\n",
    "b += h\n",
    "d2 = a * b + c\n",
    "\n",
    "print(\"d1\", d1)\n",
    "print(\"d2\", d2)\n",
    "print(\"slope\", (d2 - d1) / h)"
   ]
  },
  {
   "cell_type": "markdown",
   "metadata": {},
   "source": [
    "Let's automate this process as neural networks are very complex."
   ]
  },
  {
   "cell_type": "code",
   "execution_count": 258,
   "metadata": {},
   "outputs": [],
   "source": [
    "class Value:\n",
    "\n",
    "    # When creating a Value from an operation,\n",
    "    # populate the set.\n",
    "    def __init__(self, data, _children=(), _op=\"\", label=\"\"):\n",
    "        self.data = data\n",
    "        self._prev = set(_children)\n",
    "        self._op = _op\n",
    "        self.label = label\n",
    "    \n",
    "    def __repr__(self):\n",
    "        return f\"Value(data={self.data})\"\n",
    "\n",
    "    def __add__(self, other):\n",
    "        return Value(self.data + other.data, (self, other), \"+\")\n",
    "    \n",
    "    def __mul__(self, other):\n",
    "        return Value(self.data * other.data, (self, other), \"*\")"
   ]
  },
  {
   "cell_type": "code",
   "execution_count": 259,
   "metadata": {},
   "outputs": [
    {
     "name": "stdout",
     "output_type": "stream",
     "text": [
      "{Value(data=-6.0), Value(data=10.0)} +\n"
     ]
    }
   ],
   "source": [
    "a = Value(2.0, label=\"a\")\n",
    "b = Value(-3.0, label=\"b\")\n",
    "c = Value(10.0, label=\"c\")\n",
    "e = a * b; e.label = \"e\"\n",
    "d = e + c; d.label = \"d\"\n",
    "f = Value(-2.0, label=\"f\")\n",
    "L = d * f; L.label = \"Loss\"\n",
    "\n",
    "print(d._prev, d._op)"
   ]
  },
  {
   "cell_type": "markdown",
   "metadata": {},
   "source": [
    "Visualize complex graphs."
   ]
  },
  {
   "cell_type": "code",
   "execution_count": 260,
   "metadata": {},
   "outputs": [],
   "source": [
    "from graphviz import Digraph\n",
    "\n",
    "def trace(root):\n",
    "    nodes, edges = set(), set()\n",
    "    def build(v):\n",
    "        if v not in nodes:\n",
    "            nodes.add(v)\n",
    "            for child in v._prev:\n",
    "                edges.add((child, v))\n",
    "                build(child)\n",
    "    build(root)\n",
    "    return nodes, edges\n",
    "\n",
    "def draw_dot(root, format='svg', rankdir='LR'):\n",
    "    \"\"\"\n",
    "    format: png | svg | ...\n",
    "    rankdir: TB (top to bottom graph) | LR (left to right)\n",
    "    \"\"\"\n",
    "    assert rankdir in ['LR', 'TB']\n",
    "    nodes, edges = trace(root)\n",
    "    dot = Digraph(format=format, graph_attr={'rankdir': rankdir}) #, node_attr={'rankdir': 'TB'})\n",
    "\n",
    "    for n in nodes:\n",
    "        dot.node(name=str(id(n)), label = \"%s | data %.4f\" % (n.label, n.data), shape='record')\n",
    "        if n._op:\n",
    "            dot.node(name=str(id(n)) + n._op, label=n._op)\n",
    "            dot.edge(str(id(n)) + n._op, str(id(n)))\n",
    "\n",
    "    for n1, n2 in edges:\n",
    "        dot.edge(str(id(n1)), str(id(n2)) + n2._op)\n",
    "\n",
    "    return dot"
   ]
  },
  {
   "cell_type": "code",
   "execution_count": 261,
   "metadata": {},
   "outputs": [
    {
     "data": {
      "image/svg+xml": [
       "<?xml version=\"1.0\" encoding=\"UTF-8\" standalone=\"no\"?>\n",
       "<!DOCTYPE svg PUBLIC \"-//W3C//DTD SVG 1.1//EN\"\n",
       " \"http://www.w3.org/Graphics/SVG/1.1/DTD/svg11.dtd\">\n",
       "<!-- Generated by graphviz version 12.1.2 (0)\n",
       " -->\n",
       "<!-- Pages: 1 -->\n",
       "<svg width=\"815pt\" height=\"200pt\"\n",
       " viewBox=\"0.00 0.00 814.50 199.50\" xmlns=\"http://www.w3.org/2000/svg\" xmlns:xlink=\"http://www.w3.org/1999/xlink\">\n",
       "<g id=\"graph0\" class=\"graph\" transform=\"scale(1 1) rotate(0) translate(4 195.5)\">\n",
       "<polygon fill=\"white\" stroke=\"none\" points=\"-4,4 -4,-195.5 810.5,-195.5 810.5,4 -4,4\"/>\n",
       "<!-- 140735939144704 -->\n",
       "<g id=\"node1\" class=\"node\">\n",
       "<title>140735939144704</title>\n",
       "<polygon fill=\"none\" stroke=\"black\" points=\"234.25,-35.5 234.25,-86 340.25,-86 340.25,-35.5 234.25,-35.5\"/>\n",
       "<text text-anchor=\"middle\" x=\"287.25\" y=\"-68.7\" font-family=\"Times,serif\" font-size=\"14.00\">e</text>\n",
       "<polyline fill=\"none\" stroke=\"black\" points=\"234.25,-60.75 340.25,-60.75\"/>\n",
       "<text text-anchor=\"middle\" x=\"287.25\" y=\"-43.45\" font-family=\"Times,serif\" font-size=\"14.00\">data &#45;6.0000</text>\n",
       "</g>\n",
       "<!-- 140735939147488+ -->\n",
       "<g id=\"node4\" class=\"node\">\n",
       "<title>140735939147488+</title>\n",
       "<ellipse fill=\"none\" stroke=\"black\" cx=\"405.5\" cy=\"-95.75\" rx=\"27\" ry=\"18\"/>\n",
       "<text text-anchor=\"middle\" x=\"405.5\" y=\"-91.08\" font-family=\"Times,serif\" font-size=\"14.00\">+</text>\n",
       "</g>\n",
       "<!-- 140735939144704&#45;&gt;140735939147488+ -->\n",
       "<g id=\"edge8\" class=\"edge\">\n",
       "<title>140735939144704&#45;&gt;140735939147488+</title>\n",
       "<path fill=\"none\" stroke=\"black\" d=\"M340.59,-76.51C350.34,-79.44 360.3,-82.44 369.38,-85.18\"/>\n",
       "<polygon fill=\"black\" stroke=\"black\" points=\"368.28,-88.5 378.86,-88.03 370.29,-81.8 368.28,-88.5\"/>\n",
       "</g>\n",
       "<!-- 140735939144704* -->\n",
       "<g id=\"node2\" class=\"node\">\n",
       "<title>140735939144704*</title>\n",
       "<ellipse fill=\"none\" stroke=\"black\" cx=\"169\" cy=\"-60.75\" rx=\"27\" ry=\"18\"/>\n",
       "<text text-anchor=\"middle\" x=\"169\" y=\"-56.08\" font-family=\"Times,serif\" font-size=\"14.00\">*</text>\n",
       "</g>\n",
       "<!-- 140735939144704*&#45;&gt;140735939144704 -->\n",
       "<g id=\"edge1\" class=\"edge\">\n",
       "<title>140735939144704*&#45;&gt;140735939144704</title>\n",
       "<path fill=\"none\" stroke=\"black\" d=\"M196.38,-60.75C204.28,-60.75 213.32,-60.75 222.55,-60.75\"/>\n",
       "<polygon fill=\"black\" stroke=\"black\" points=\"222.32,-64.25 232.32,-60.75 222.32,-57.25 222.32,-64.25\"/>\n",
       "</g>\n",
       "<!-- 140735939147488 -->\n",
       "<g id=\"node3\" class=\"node\">\n",
       "<title>140735939147488</title>\n",
       "<polygon fill=\"none\" stroke=\"black\" points=\"470.75,-70.5 470.75,-121 572.25,-121 572.25,-70.5 470.75,-70.5\"/>\n",
       "<text text-anchor=\"middle\" x=\"521.5\" y=\"-103.7\" font-family=\"Times,serif\" font-size=\"14.00\">d</text>\n",
       "<polyline fill=\"none\" stroke=\"black\" points=\"470.75,-95.75 572.25,-95.75\"/>\n",
       "<text text-anchor=\"middle\" x=\"521.5\" y=\"-78.45\" font-family=\"Times,serif\" font-size=\"14.00\">data 4.0000</text>\n",
       "</g>\n",
       "<!-- 140735941104448* -->\n",
       "<g id=\"node6\" class=\"node\">\n",
       "<title>140735941104448*</title>\n",
       "<ellipse fill=\"none\" stroke=\"black\" cx=\"637.5\" cy=\"-130.75\" rx=\"27\" ry=\"18\"/>\n",
       "<text text-anchor=\"middle\" x=\"637.5\" y=\"-126.08\" font-family=\"Times,serif\" font-size=\"14.00\">*</text>\n",
       "</g>\n",
       "<!-- 140735939147488&#45;&gt;140735941104448* -->\n",
       "<g id=\"edge9\" class=\"edge\">\n",
       "<title>140735939147488&#45;&gt;140735941104448*</title>\n",
       "<path fill=\"none\" stroke=\"black\" d=\"M572.5,-111.1C582.37,-114.13 592.52,-117.25 601.75,-120.08\"/>\n",
       "<polygon fill=\"black\" stroke=\"black\" points=\"600.43,-123.34 611.02,-122.93 602.49,-116.65 600.43,-123.34\"/>\n",
       "</g>\n",
       "<!-- 140735939147488+&#45;&gt;140735939147488 -->\n",
       "<g id=\"edge2\" class=\"edge\">\n",
       "<title>140735939147488+&#45;&gt;140735939147488</title>\n",
       "<path fill=\"none\" stroke=\"black\" d=\"M432.94,-95.75C440.89,-95.75 449.97,-95.75 459.19,-95.75\"/>\n",
       "<polygon fill=\"black\" stroke=\"black\" points=\"458.94,-99.25 468.94,-95.75 458.94,-92.25 458.94,-99.25\"/>\n",
       "</g>\n",
       "<!-- 140735941104448 -->\n",
       "<g id=\"node5\" class=\"node\">\n",
       "<title>140735941104448</title>\n",
       "<polygon fill=\"none\" stroke=\"black\" points=\"700.5,-105.5 700.5,-156 806.5,-156 806.5,-105.5 700.5,-105.5\"/>\n",
       "<text text-anchor=\"middle\" x=\"753.5\" y=\"-138.7\" font-family=\"Times,serif\" font-size=\"14.00\">Loss</text>\n",
       "<polyline fill=\"none\" stroke=\"black\" points=\"700.5,-130.75 806.5,-130.75\"/>\n",
       "<text text-anchor=\"middle\" x=\"753.5\" y=\"-113.45\" font-family=\"Times,serif\" font-size=\"14.00\">data &#45;8.0000</text>\n",
       "</g>\n",
       "<!-- 140735941104448*&#45;&gt;140735941104448 -->\n",
       "<g id=\"edge3\" class=\"edge\">\n",
       "<title>140735941104448*&#45;&gt;140735941104448</title>\n",
       "<path fill=\"none\" stroke=\"black\" d=\"M664.94,-130.75C672.18,-130.75 680.34,-130.75 688.71,-130.75\"/>\n",
       "<polygon fill=\"black\" stroke=\"black\" points=\"688.66,-134.25 698.66,-130.75 688.66,-127.25 688.66,-134.25\"/>\n",
       "</g>\n",
       "<!-- 140735939146624 -->\n",
       "<g id=\"node7\" class=\"node\">\n",
       "<title>140735939146624</title>\n",
       "<polygon fill=\"none\" stroke=\"black\" points=\"0,-70.5 0,-121 106,-121 106,-70.5 0,-70.5\"/>\n",
       "<text text-anchor=\"middle\" x=\"53\" y=\"-103.7\" font-family=\"Times,serif\" font-size=\"14.00\">b</text>\n",
       "<polyline fill=\"none\" stroke=\"black\" points=\"0,-95.75 106,-95.75\"/>\n",
       "<text text-anchor=\"middle\" x=\"53\" y=\"-78.45\" font-family=\"Times,serif\" font-size=\"14.00\">data &#45;3.0000</text>\n",
       "</g>\n",
       "<!-- 140735939146624&#45;&gt;140735939144704* -->\n",
       "<g id=\"edge7\" class=\"edge\">\n",
       "<title>140735939146624&#45;&gt;140735939144704*</title>\n",
       "<path fill=\"none\" stroke=\"black\" d=\"M106.33,-79.68C115.34,-76.92 124.51,-74.1 132.93,-71.52\"/>\n",
       "<polygon fill=\"black\" stroke=\"black\" points=\"133.88,-74.89 142.41,-68.61 131.82,-68.2 133.88,-74.89\"/>\n",
       "</g>\n",
       "<!-- 140735939141056 -->\n",
       "<g id=\"node8\" class=\"node\">\n",
       "<title>140735939141056</title>\n",
       "<polygon fill=\"none\" stroke=\"black\" points=\"232,-105.5 232,-156 342.5,-156 342.5,-105.5 232,-105.5\"/>\n",
       "<text text-anchor=\"middle\" x=\"287.25\" y=\"-138.7\" font-family=\"Times,serif\" font-size=\"14.00\">c</text>\n",
       "<polyline fill=\"none\" stroke=\"black\" points=\"232,-130.75 342.5,-130.75\"/>\n",
       "<text text-anchor=\"middle\" x=\"287.25\" y=\"-113.45\" font-family=\"Times,serif\" font-size=\"14.00\">data 10.0000</text>\n",
       "</g>\n",
       "<!-- 140735939141056&#45;&gt;140735939147488+ -->\n",
       "<g id=\"edge6\" class=\"edge\">\n",
       "<title>140735939141056&#45;&gt;140735939147488+</title>\n",
       "<path fill=\"none\" stroke=\"black\" d=\"M342.97,-114.27C352.04,-111.54 361.22,-108.78 369.62,-106.25\"/>\n",
       "<polygon fill=\"black\" stroke=\"black\" points=\"370.5,-109.64 379.07,-103.41 368.48,-102.94 370.5,-109.64\"/>\n",
       "</g>\n",
       "<!-- 140735940572608 -->\n",
       "<g id=\"node9\" class=\"node\">\n",
       "<title>140735940572608</title>\n",
       "<polygon fill=\"none\" stroke=\"black\" points=\"2.25,-0.5 2.25,-51 103.75,-51 103.75,-0.5 2.25,-0.5\"/>\n",
       "<text text-anchor=\"middle\" x=\"53\" y=\"-33.7\" font-family=\"Times,serif\" font-size=\"14.00\">a</text>\n",
       "<polyline fill=\"none\" stroke=\"black\" points=\"2.25,-25.75 103.75,-25.75\"/>\n",
       "<text text-anchor=\"middle\" x=\"53\" y=\"-8.45\" font-family=\"Times,serif\" font-size=\"14.00\">data 2.0000</text>\n",
       "</g>\n",
       "<!-- 140735940572608&#45;&gt;140735939144704* -->\n",
       "<g id=\"edge5\" class=\"edge\">\n",
       "<title>140735940572608&#45;&gt;140735939144704*</title>\n",
       "<path fill=\"none\" stroke=\"black\" d=\"M104,-41.1C113.87,-44.13 124.02,-47.25 133.25,-50.08\"/>\n",
       "<polygon fill=\"black\" stroke=\"black\" points=\"131.93,-53.34 142.52,-52.93 133.99,-46.65 131.93,-53.34\"/>\n",
       "</g>\n",
       "<!-- 140735939147728 -->\n",
       "<g id=\"node10\" class=\"node\">\n",
       "<title>140735939147728</title>\n",
       "<polygon fill=\"none\" stroke=\"black\" points=\"468.5,-140.5 468.5,-191 574.5,-191 574.5,-140.5 468.5,-140.5\"/>\n",
       "<text text-anchor=\"middle\" x=\"521.5\" y=\"-173.7\" font-family=\"Times,serif\" font-size=\"14.00\">f</text>\n",
       "<polyline fill=\"none\" stroke=\"black\" points=\"468.5,-165.75 574.5,-165.75\"/>\n",
       "<text text-anchor=\"middle\" x=\"521.5\" y=\"-148.45\" font-family=\"Times,serif\" font-size=\"14.00\">data &#45;2.0000</text>\n",
       "</g>\n",
       "<!-- 140735939147728&#45;&gt;140735941104448* -->\n",
       "<g id=\"edge4\" class=\"edge\">\n",
       "<title>140735939147728&#45;&gt;140735941104448*</title>\n",
       "<path fill=\"none\" stroke=\"black\" d=\"M574.83,-149.68C583.84,-146.92 593.01,-144.1 601.43,-141.52\"/>\n",
       "<polygon fill=\"black\" stroke=\"black\" points=\"602.38,-144.89 610.91,-138.61 600.32,-138.2 602.38,-144.89\"/>\n",
       "</g>\n",
       "</g>\n",
       "</svg>\n"
      ],
      "text/plain": [
       "<graphviz.graphs.Digraph at 0x7fffa3dd40b0>"
      ]
     },
     "execution_count": 261,
     "metadata": {},
     "output_type": "execute_result"
    }
   ],
   "source": [
    "draw_dot(L)"
   ]
  },
  {
   "cell_type": "markdown",
   "metadata": {},
   "source": [
    "Let's apply backpropagation. For every single value, we are going to compute the derivative w.r.t. the Loss."
   ]
  },
  {
   "cell_type": "code",
   "execution_count": 262,
   "metadata": {},
   "outputs": [],
   "source": [
    "class Value:\n",
    "\n",
    "    def __init__(self, data, _children=(), _op=\"\", label=\"\"):\n",
    "        self.data = data\n",
    "        self.grad = 0.0\n",
    "        self._prev = set(_children)\n",
    "        self._op = _op\n",
    "        self.label = label\n",
    "    \n",
    "    def __repr__(self):\n",
    "        return f\"Value(data={self.data})\"\n",
    "\n",
    "    def __add__(self, other):\n",
    "        return Value(self.data + other.data, (self, other), \"+\")\n",
    "    \n",
    "    def __mul__(self, other):\n",
    "        return Value(self.data * other.data, (self, other), \"*\")\n",
    "\n",
    "def draw_dot(root, format='svg', rankdir='LR'):\n",
    "    \"\"\"\n",
    "    format: png | svg | ...\n",
    "    rankdir: TB (top to bottom graph) | LR (left to right)\n",
    "    \"\"\"\n",
    "    assert rankdir in ['LR', 'TB']\n",
    "    nodes, edges = trace(root)\n",
    "    dot = Digraph(format=format, graph_attr={'rankdir': rankdir}) #, node_attr={'rankdir': 'TB'})\n",
    "\n",
    "    for n in nodes:\n",
    "        dot.node(name=str(id(n)), label = \"%s | data %.4f | grad %.4f\" % (n.label, n.data, n.grad), shape='record')\n",
    "        if n._op:\n",
    "            dot.node(name=str(id(n)) + n._op, label=n._op)\n",
    "            dot.edge(str(id(n)) + n._op, str(id(n)))\n",
    "\n",
    "    for n1, n2 in edges:\n",
    "        dot.edge(str(id(n1)), str(id(n2)) + n2._op)\n",
    "\n",
    "    return dot"
   ]
  },
  {
   "cell_type": "code",
   "execution_count": 263,
   "metadata": {},
   "outputs": [
    {
     "data": {
      "image/svg+xml": [
       "<?xml version=\"1.0\" encoding=\"UTF-8\" standalone=\"no\"?>\n",
       "<!DOCTYPE svg PUBLIC \"-//W3C//DTD SVG 1.1//EN\"\n",
       " \"http://www.w3.org/Graphics/SVG/1.1/DTD/svg11.dtd\">\n",
       "<!-- Generated by graphviz version 12.1.2 (0)\n",
       " -->\n",
       "<!-- Pages: 1 -->\n",
       "<svg width=\"815pt\" height=\"228pt\"\n",
       " viewBox=\"0.00 0.00 814.50 227.75\" xmlns=\"http://www.w3.org/2000/svg\" xmlns:xlink=\"http://www.w3.org/1999/xlink\">\n",
       "<g id=\"graph0\" class=\"graph\" transform=\"scale(1 1) rotate(0) translate(4 223.75)\">\n",
       "<polygon fill=\"white\" stroke=\"none\" points=\"-4,4 -4,-223.75 810.5,-223.75 810.5,4 -4,4\"/>\n",
       "<!-- 140735937968176 -->\n",
       "<g id=\"node1\" class=\"node\">\n",
       "<title>140735937968176</title>\n",
       "<polygon fill=\"none\" stroke=\"black\" points=\"470,-47.5 470,-123.25 573,-123.25 573,-47.5 470,-47.5\"/>\n",
       "<text text-anchor=\"middle\" x=\"521.5\" y=\"-105.95\" font-family=\"Times,serif\" font-size=\"14.00\">d</text>\n",
       "<polyline fill=\"none\" stroke=\"black\" points=\"470,-98 573,-98\"/>\n",
       "<text text-anchor=\"middle\" x=\"521.5\" y=\"-80.7\" font-family=\"Times,serif\" font-size=\"14.00\">data 4.0000</text>\n",
       "<polyline fill=\"none\" stroke=\"black\" points=\"470,-72.75 573,-72.75\"/>\n",
       "<text text-anchor=\"middle\" x=\"521.5\" y=\"-55.45\" font-family=\"Times,serif\" font-size=\"14.00\">grad 0.0000</text>\n",
       "</g>\n",
       "<!-- 140735937961216* -->\n",
       "<g id=\"node5\" class=\"node\">\n",
       "<title>140735937961216*</title>\n",
       "<ellipse fill=\"none\" stroke=\"black\" cx=\"637.5\" cy=\"-132.38\" rx=\"27\" ry=\"18\"/>\n",
       "<text text-anchor=\"middle\" x=\"637.5\" y=\"-127.7\" font-family=\"Times,serif\" font-size=\"14.00\">*</text>\n",
       "</g>\n",
       "<!-- 140735937968176&#45;&gt;140735937961216* -->\n",
       "<g id=\"edge7\" class=\"edge\">\n",
       "<title>140735937968176&#45;&gt;140735937961216*</title>\n",
       "<path fill=\"none\" stroke=\"black\" d=\"M573.5,-106.4C583.64,-110.58 594.04,-114.87 603.39,-118.72\"/>\n",
       "<polygon fill=\"black\" stroke=\"black\" points=\"601.83,-121.87 612.41,-122.44 604.49,-115.39 601.83,-121.87\"/>\n",
       "</g>\n",
       "<!-- 140735937968176+ -->\n",
       "<g id=\"node2\" class=\"node\">\n",
       "<title>140735937968176+</title>\n",
       "<ellipse fill=\"none\" stroke=\"black\" cx=\"405.5\" cy=\"-85.38\" rx=\"27\" ry=\"18\"/>\n",
       "<text text-anchor=\"middle\" x=\"405.5\" y=\"-80.7\" font-family=\"Times,serif\" font-size=\"14.00\">+</text>\n",
       "</g>\n",
       "<!-- 140735937968176+&#45;&gt;140735937968176 -->\n",
       "<g id=\"edge1\" class=\"edge\">\n",
       "<title>140735937968176+&#45;&gt;140735937968176</title>\n",
       "<path fill=\"none\" stroke=\"black\" d=\"M432.94,-85.38C440.62,-85.38 449.34,-85.38 458.24,-85.38\"/>\n",
       "<polygon fill=\"black\" stroke=\"black\" points=\"458.03,-88.88 468.03,-85.38 458.03,-81.88 458.03,-88.88\"/>\n",
       "</g>\n",
       "<!-- 140735939059424 -->\n",
       "<g id=\"node3\" class=\"node\">\n",
       "<title>140735939059424</title>\n",
       "<polygon fill=\"none\" stroke=\"black\" points=\"1.5,-143.5 1.5,-219.25 104.5,-219.25 104.5,-143.5 1.5,-143.5\"/>\n",
       "<text text-anchor=\"middle\" x=\"53\" y=\"-201.95\" font-family=\"Times,serif\" font-size=\"14.00\">a</text>\n",
       "<polyline fill=\"none\" stroke=\"black\" points=\"1.5,-194 104.5,-194\"/>\n",
       "<text text-anchor=\"middle\" x=\"53\" y=\"-176.7\" font-family=\"Times,serif\" font-size=\"14.00\">data 2.0000</text>\n",
       "<polyline fill=\"none\" stroke=\"black\" points=\"1.5,-168.75 104.5,-168.75\"/>\n",
       "<text text-anchor=\"middle\" x=\"53\" y=\"-151.45\" font-family=\"Times,serif\" font-size=\"14.00\">grad 0.0000</text>\n",
       "</g>\n",
       "<!-- 140735937964336* -->\n",
       "<g id=\"node7\" class=\"node\">\n",
       "<title>140735937964336*</title>\n",
       "<ellipse fill=\"none\" stroke=\"black\" cx=\"169\" cy=\"-133.38\" rx=\"27\" ry=\"18\"/>\n",
       "<text text-anchor=\"middle\" x=\"169\" y=\"-128.7\" font-family=\"Times,serif\" font-size=\"14.00\">*</text>\n",
       "</g>\n",
       "<!-- 140735939059424&#45;&gt;140735937964336* -->\n",
       "<g id=\"edge9\" class=\"edge\">\n",
       "<title>140735939059424&#45;&gt;140735937964336*</title>\n",
       "<path fill=\"none\" stroke=\"black\" d=\"M105,-159.9C115.22,-155.6 125.71,-151.18 135.12,-147.22\"/>\n",
       "<polygon fill=\"black\" stroke=\"black\" points=\"136.34,-150.5 144.2,-143.4 133.63,-144.05 136.34,-150.5\"/>\n",
       "</g>\n",
       "<!-- 140735937961216 -->\n",
       "<g id=\"node4\" class=\"node\">\n",
       "<title>140735937961216</title>\n",
       "<polygon fill=\"none\" stroke=\"black\" points=\"700.5,-94.5 700.5,-170.25 806.5,-170.25 806.5,-94.5 700.5,-94.5\"/>\n",
       "<text text-anchor=\"middle\" x=\"753.5\" y=\"-152.95\" font-family=\"Times,serif\" font-size=\"14.00\">Loss</text>\n",
       "<polyline fill=\"none\" stroke=\"black\" points=\"700.5,-145 806.5,-145\"/>\n",
       "<text text-anchor=\"middle\" x=\"753.5\" y=\"-127.7\" font-family=\"Times,serif\" font-size=\"14.00\">data &#45;8.0000</text>\n",
       "<polyline fill=\"none\" stroke=\"black\" points=\"700.5,-119.75 806.5,-119.75\"/>\n",
       "<text text-anchor=\"middle\" x=\"753.5\" y=\"-102.45\" font-family=\"Times,serif\" font-size=\"14.00\">grad 0.0000</text>\n",
       "</g>\n",
       "<!-- 140735937961216*&#45;&gt;140735937961216 -->\n",
       "<g id=\"edge2\" class=\"edge\">\n",
       "<title>140735937961216*&#45;&gt;140735937961216</title>\n",
       "<path fill=\"none\" stroke=\"black\" d=\"M664.94,-132.38C672.18,-132.38 680.34,-132.38 688.71,-132.38\"/>\n",
       "<polygon fill=\"black\" stroke=\"black\" points=\"688.66,-135.88 698.66,-132.38 688.66,-128.88 688.66,-135.88\"/>\n",
       "</g>\n",
       "<!-- 140735937964336 -->\n",
       "<g id=\"node6\" class=\"node\">\n",
       "<title>140735937964336</title>\n",
       "<polygon fill=\"none\" stroke=\"black\" points=\"234.25,-95.5 234.25,-171.25 340.25,-171.25 340.25,-95.5 234.25,-95.5\"/>\n",
       "<text text-anchor=\"middle\" x=\"287.25\" y=\"-153.95\" font-family=\"Times,serif\" font-size=\"14.00\">e</text>\n",
       "<polyline fill=\"none\" stroke=\"black\" points=\"234.25,-146 340.25,-146\"/>\n",
       "<text text-anchor=\"middle\" x=\"287.25\" y=\"-128.7\" font-family=\"Times,serif\" font-size=\"14.00\">data &#45;6.0000</text>\n",
       "<polyline fill=\"none\" stroke=\"black\" points=\"234.25,-120.75 340.25,-120.75\"/>\n",
       "<text text-anchor=\"middle\" x=\"287.25\" y=\"-103.45\" font-family=\"Times,serif\" font-size=\"14.00\">grad 0.0000</text>\n",
       "</g>\n",
       "<!-- 140735937964336&#45;&gt;140735937968176+ -->\n",
       "<g id=\"edge6\" class=\"edge\">\n",
       "<title>140735937964336&#45;&gt;140735937968176+</title>\n",
       "<path fill=\"none\" stroke=\"black\" d=\"M340.59,-111.76C350.99,-107.47 361.63,-103.07 371.18,-99.13\"/>\n",
       "<polygon fill=\"black\" stroke=\"black\" points=\"372.49,-102.38 380.4,-95.33 369.82,-95.91 372.49,-102.38\"/>\n",
       "</g>\n",
       "<!-- 140735937964336*&#45;&gt;140735937964336 -->\n",
       "<g id=\"edge3\" class=\"edge\">\n",
       "<title>140735937964336*&#45;&gt;140735937964336</title>\n",
       "<path fill=\"none\" stroke=\"black\" d=\"M196.38,-133.38C204.28,-133.38 213.32,-133.38 222.55,-133.38\"/>\n",
       "<polygon fill=\"black\" stroke=\"black\" points=\"222.32,-136.88 232.32,-133.38 222.32,-129.88 222.32,-136.88\"/>\n",
       "</g>\n",
       "<!-- 140735937968464 -->\n",
       "<g id=\"node8\" class=\"node\">\n",
       "<title>140735937968464</title>\n",
       "<polygon fill=\"none\" stroke=\"black\" points=\"468.5,-142.5 468.5,-218.25 574.5,-218.25 574.5,-142.5 468.5,-142.5\"/>\n",
       "<text text-anchor=\"middle\" x=\"521.5\" y=\"-200.95\" font-family=\"Times,serif\" font-size=\"14.00\">f</text>\n",
       "<polyline fill=\"none\" stroke=\"black\" points=\"468.5,-193 574.5,-193\"/>\n",
       "<text text-anchor=\"middle\" x=\"521.5\" y=\"-175.7\" font-family=\"Times,serif\" font-size=\"14.00\">data &#45;2.0000</text>\n",
       "<polyline fill=\"none\" stroke=\"black\" points=\"468.5,-167.75 574.5,-167.75\"/>\n",
       "<text text-anchor=\"middle\" x=\"521.5\" y=\"-150.45\" font-family=\"Times,serif\" font-size=\"14.00\">grad 0.0000</text>\n",
       "</g>\n",
       "<!-- 140735937968464&#45;&gt;140735937961216* -->\n",
       "<g id=\"edge8\" class=\"edge\">\n",
       "<title>140735937968464&#45;&gt;140735937961216*</title>\n",
       "<path fill=\"none\" stroke=\"black\" d=\"M574.83,-158.34C584.65,-154.21 594.66,-149.99 603.67,-146.2\"/>\n",
       "<polygon fill=\"black\" stroke=\"black\" points=\"604.85,-149.5 612.71,-142.39 602.13,-143.05 604.85,-149.5\"/>\n",
       "</g>\n",
       "<!-- 140735937955744 -->\n",
       "<g id=\"node9\" class=\"node\">\n",
       "<title>140735937955744</title>\n",
       "<polygon fill=\"none\" stroke=\"black\" points=\"232,-0.5 232,-76.25 342.5,-76.25 342.5,-0.5 232,-0.5\"/>\n",
       "<text text-anchor=\"middle\" x=\"287.25\" y=\"-58.95\" font-family=\"Times,serif\" font-size=\"14.00\">c</text>\n",
       "<polyline fill=\"none\" stroke=\"black\" points=\"232,-51 342.5,-51\"/>\n",
       "<text text-anchor=\"middle\" x=\"287.25\" y=\"-33.7\" font-family=\"Times,serif\" font-size=\"14.00\">data 10.0000</text>\n",
       "<polyline fill=\"none\" stroke=\"black\" points=\"232,-25.75 342.5,-25.75\"/>\n",
       "<text text-anchor=\"middle\" x=\"287.25\" y=\"-8.45\" font-family=\"Times,serif\" font-size=\"14.00\">grad 0.0000</text>\n",
       "</g>\n",
       "<!-- 140735937955744&#45;&gt;140735937968176+ -->\n",
       "<g id=\"edge4\" class=\"edge\">\n",
       "<title>140735937955744&#45;&gt;140735937968176+</title>\n",
       "<path fill=\"none\" stroke=\"black\" d=\"M342.97,-60.5C352.58,-64.38 362.31,-68.32 371.11,-71.88\"/>\n",
       "<polygon fill=\"black\" stroke=\"black\" points=\"369.69,-75.08 380.28,-75.58 372.32,-68.59 369.69,-75.08\"/>\n",
       "</g>\n",
       "<!-- 140735939829184 -->\n",
       "<g id=\"node10\" class=\"node\">\n",
       "<title>140735939829184</title>\n",
       "<polygon fill=\"none\" stroke=\"black\" points=\"0,-48.5 0,-124.25 106,-124.25 106,-48.5 0,-48.5\"/>\n",
       "<text text-anchor=\"middle\" x=\"53\" y=\"-106.95\" font-family=\"Times,serif\" font-size=\"14.00\">b</text>\n",
       "<polyline fill=\"none\" stroke=\"black\" points=\"0,-99 106,-99\"/>\n",
       "<text text-anchor=\"middle\" x=\"53\" y=\"-81.7\" font-family=\"Times,serif\" font-size=\"14.00\">data &#45;3.0000</text>\n",
       "<polyline fill=\"none\" stroke=\"black\" points=\"0,-73.75 106,-73.75\"/>\n",
       "<text text-anchor=\"middle\" x=\"53\" y=\"-56.45\" font-family=\"Times,serif\" font-size=\"14.00\">grad 0.0000</text>\n",
       "</g>\n",
       "<!-- 140735939829184&#45;&gt;140735937964336* -->\n",
       "<g id=\"edge5\" class=\"edge\">\n",
       "<title>140735939829184&#45;&gt;140735937964336*</title>\n",
       "<path fill=\"none\" stroke=\"black\" d=\"M106.33,-107.95C116.07,-111.96 125.99,-116.05 134.94,-119.75\"/>\n",
       "<polygon fill=\"black\" stroke=\"black\" points=\"133.33,-122.87 143.91,-123.44 136,-116.4 133.33,-122.87\"/>\n",
       "</g>\n",
       "</g>\n",
       "</svg>\n"
      ],
      "text/plain": [
       "<graphviz.graphs.Digraph at 0x7fffa8341c40>"
      ]
     },
     "execution_count": 263,
     "metadata": {},
     "output_type": "execute_result"
    }
   ],
   "source": [
    "def scope():\n",
    "    a = Value(2.0, label=\"a\")\n",
    "    b = Value(-3.0, label=\"b\")\n",
    "    c = Value(10.0, label=\"c\")\n",
    "    e = a * b; e.label = \"e\"\n",
    "    d = e + c; d.label = \"d\"\n",
    "    f = Value(-2.0, label=\"f\")\n",
    "    L = d * f; L.label = \"Loss\"\n",
    "\n",
    "    return draw_dot(L)\n",
    "\n",
    "scope()"
   ]
  },
  {
   "cell_type": "markdown",
   "metadata": {},
   "source": [
    "What is the derivative of L w.r.t. L? Answer is 1. The change will be proportional."
   ]
  },
  {
   "cell_type": "code",
   "execution_count": 264,
   "metadata": {},
   "outputs": [],
   "source": [
    "L.grad = 1.0"
   ]
  },
  {
   "cell_type": "markdown",
   "metadata": {},
   "source": [
    "$\n",
    "L = d * f\n",
    "$\n",
    "\n",
    "$\n",
    "DL/dd =? f\n",
    "$\n",
    "\n",
    "We can apply the formula:\n",
    "$(f(x + h) - f(x)) / h$\n",
    "\n",
    "$dL/dd = ((d + h) * f - d * f) / h = f * h / h = f = -2.0$\n",
    "\n",
    "Similarly, $dL/df = d = 4.0$"
   ]
  },
  {
   "cell_type": "markdown",
   "metadata": {},
   "source": [
    "Let's check $DL/dd$ numerically using a small step size"
   ]
  },
  {
   "cell_type": "code",
   "execution_count": 265,
   "metadata": {},
   "outputs": [
    {
     "name": "stdout",
     "output_type": "stream",
     "text": [
      "-1.9999999999242843\n"
     ]
    }
   ],
   "source": [
    "def lol():\n",
    "    h = 0.00001\n",
    "\n",
    "    a = Value(2.0, label=\"a\")\n",
    "    b = Value(-3.0, label=\"b\")\n",
    "    c = Value(10.0, label=\"c\")\n",
    "    e = a * b; e.label = \"e\"\n",
    "    d = e + c; d.label = \"d\"\n",
    "    f = Value(-2.0, label=\"f\")\n",
    "    L = d * f; L.label = \"Loss\"\n",
    "    L1 = L.data\n",
    "\n",
    "    a = Value(2.0, label=\"a\")\n",
    "    b = Value(-3.0, label=\"b\")\n",
    "    c = Value(10.0, label=\"c\")\n",
    "    e = a * b; e.label = \"e\"\n",
    "    d = e + c; d.label = \"d\"\n",
    "    d.data += h # nudging the input\n",
    "    f = Value(-2.0, label=\"f\")\n",
    "    L = d * f; L.label = \"Loss\"\n",
    "    L2 = L.data\n",
    "\n",
    "    print((L2 - L1) / h)\n",
    "\n",
    "lol()"
   ]
  },
  {
   "cell_type": "markdown",
   "metadata": {},
   "source": [
    "$\n",
    "d = c + e\n",
    "$\n",
    "\n",
    "$\n",
    "dd/dc =? 1\n",
    "$\n",
    "\n",
    "$\n",
    "(c + h + e - (c + e)) / h = 1\n",
    "$"
   ]
  },
  {
   "cell_type": "markdown",
   "metadata": {},
   "source": [
    "Now that we understood the gradient for individual nodes, let's apply the linear rule.\n",
    "\n",
    "Want: $DL/dc$\n",
    "\n",
    "Know: $DL/dd$, $dd/dc$\n",
    "\n",
    "$\n",
    "DL/dc = DL/dd * dd/dc = -2.0 * 1.0 = -2.0\n",
    "$\n",
    "\n",
    "Observation: the + node just routes the gradient"
   ]
  },
  {
   "cell_type": "code",
   "execution_count": 266,
   "metadata": {},
   "outputs": [
    {
     "name": "stdout",
     "output_type": "stream",
     "text": [
      "-1.9999999999242843\n"
     ]
    }
   ],
   "source": [
    "def lol():\n",
    "    h = 0.00001\n",
    "\n",
    "    a = Value(2.0, label=\"a\")\n",
    "    b = Value(-3.0, label=\"b\")\n",
    "    c = Value(10.0, label=\"c\")\n",
    "    e = a * b; e.label = \"e\"\n",
    "    d = e + c; d.label = \"d\"\n",
    "    f = Value(-2.0, label=\"f\")\n",
    "    L = d * f; L.label = \"Loss\"\n",
    "    L1 = L.data\n",
    "\n",
    "    a = Value(2.0, label=\"a\")\n",
    "    b = Value(-3.0, label=\"b\")\n",
    "    c = Value(10.0 + h, label=\"c\")\n",
    "    e = a * b; e.label = \"e\"\n",
    "    d = e + c; d.label = \"d\"\n",
    "    f = Value(-2.0, label=\"f\")\n",
    "    L = d * f; L.label = \"Loss\"\n",
    "    L2 = L.data\n",
    "\n",
    "    print((L2 - L1) / h)\n",
    "\n",
    "lol()"
   ]
  },
  {
   "cell_type": "markdown",
   "metadata": {},
   "source": [
    "What about $dL/da$? Applying the chain rule, $dL/da = dL/dd * dd/de * de/da$\n",
    "\n",
    "Know: $dd/de = 1$\n",
    "\n",
    "$e = a * b$\n",
    "$de/da =? b$\n",
    "\n",
    "Again we can apply the formula just to check\n",
    "\n",
    "$\n",
    "((a + h) * b - a * b) / h = b\n",
    "$\n",
    "\n",
    "So we get $dL/da = -2.0 * -3.0 = 6.0$\n",
    "\n",
    "Similarly, $dL/db = -2.0 * 2.0 = -4.0$"
   ]
  },
  {
   "cell_type": "code",
   "execution_count": 267,
   "metadata": {},
   "outputs": [
    {
     "name": "stdout",
     "output_type": "stream",
     "text": [
      "6.000000000128124\n"
     ]
    }
   ],
   "source": [
    "def lol():\n",
    "    h = 0.00001\n",
    "\n",
    "    a = Value(2.0, label=\"a\")\n",
    "    b = Value(-3.0, label=\"b\")\n",
    "    c = Value(10.0, label=\"c\")\n",
    "    e = a * b; e.label = \"e\"\n",
    "    d = e + c; d.label = \"d\"\n",
    "    f = Value(-2.0, label=\"f\")\n",
    "    L = d * f; L.label = \"Loss\"\n",
    "    L1 = L.data\n",
    "\n",
    "    a = Value(2.0 + h, label=\"a\")\n",
    "    b = Value(-3.0, label=\"b\")\n",
    "    c = Value(10.0, label=\"c\")\n",
    "    e = a * b; e.label = \"e\"\n",
    "    d = e + c; d.label = \"d\"\n",
    "    f = Value(-2.0, label=\"f\")\n",
    "    L = d * f; L.label = \"Loss\"\n",
    "    L2 = L.data\n",
    "\n",
    "    print((L2 - L1) / h)\n",
    "\n",
    "lol()"
   ]
  },
  {
   "cell_type": "markdown",
   "metadata": {},
   "source": [
    "Let's simulate a single optimization step. We plug all gradients calculated above manually."
   ]
  },
  {
   "cell_type": "code",
   "execution_count": 270,
   "metadata": {},
   "outputs": [
    {
     "data": {
      "image/svg+xml": [
       "<?xml version=\"1.0\" encoding=\"UTF-8\" standalone=\"no\"?>\n",
       "<!DOCTYPE svg PUBLIC \"-//W3C//DTD SVG 1.1//EN\"\n",
       " \"http://www.w3.org/Graphics/SVG/1.1/DTD/svg11.dtd\">\n",
       "<!-- Generated by graphviz version 12.1.2 (0)\n",
       " -->\n",
       "<!-- Pages: 1 -->\n",
       "<svg width=\"818pt\" height=\"228pt\"\n",
       " viewBox=\"0.00 0.00 817.50 227.75\" xmlns=\"http://www.w3.org/2000/svg\" xmlns:xlink=\"http://www.w3.org/1999/xlink\">\n",
       "<g id=\"graph0\" class=\"graph\" transform=\"scale(1 1) rotate(0) translate(4 223.75)\">\n",
       "<polygon fill=\"white\" stroke=\"none\" points=\"-4,4 -4,-223.75 813.5,-223.75 813.5,4 -4,4\"/>\n",
       "<!-- 140735939142736 -->\n",
       "<g id=\"node1\" class=\"node\">\n",
       "<title>140735939142736</title>\n",
       "<polygon fill=\"none\" stroke=\"black\" points=\"703.5,-47.5 703.5,-123.25 809.5,-123.25 809.5,-47.5 703.5,-47.5\"/>\n",
       "<text text-anchor=\"middle\" x=\"756.5\" y=\"-105.95\" font-family=\"Times,serif\" font-size=\"14.00\">Loss</text>\n",
       "<polyline fill=\"none\" stroke=\"black\" points=\"703.5,-98 809.5,-98\"/>\n",
       "<text text-anchor=\"middle\" x=\"756.5\" y=\"-80.7\" font-family=\"Times,serif\" font-size=\"14.00\">data &#45;8.0000</text>\n",
       "<polyline fill=\"none\" stroke=\"black\" points=\"703.5,-72.75 809.5,-72.75\"/>\n",
       "<text text-anchor=\"middle\" x=\"756.5\" y=\"-55.45\" font-family=\"Times,serif\" font-size=\"14.00\">grad 1.0000</text>\n",
       "</g>\n",
       "<!-- 140735939142736* -->\n",
       "<g id=\"node2\" class=\"node\">\n",
       "<title>140735939142736*</title>\n",
       "<ellipse fill=\"none\" stroke=\"black\" cx=\"640.5\" cy=\"-85.38\" rx=\"27\" ry=\"18\"/>\n",
       "<text text-anchor=\"middle\" x=\"640.5\" y=\"-80.7\" font-family=\"Times,serif\" font-size=\"14.00\">*</text>\n",
       "</g>\n",
       "<!-- 140735939142736*&#45;&gt;140735939142736 -->\n",
       "<g id=\"edge1\" class=\"edge\">\n",
       "<title>140735939142736*&#45;&gt;140735939142736</title>\n",
       "<path fill=\"none\" stroke=\"black\" d=\"M667.94,-85.38C675.18,-85.38 683.34,-85.38 691.71,-85.38\"/>\n",
       "<polygon fill=\"black\" stroke=\"black\" points=\"691.66,-88.88 701.66,-85.38 691.66,-81.88 691.66,-88.88\"/>\n",
       "</g>\n",
       "<!-- 140735939141296 -->\n",
       "<g id=\"node3\" class=\"node\">\n",
       "<title>140735939141296</title>\n",
       "<polygon fill=\"none\" stroke=\"black\" points=\"470,-95.5 470,-171.25 577.5,-171.25 577.5,-95.5 470,-95.5\"/>\n",
       "<text text-anchor=\"middle\" x=\"523.75\" y=\"-153.95\" font-family=\"Times,serif\" font-size=\"14.00\">d</text>\n",
       "<polyline fill=\"none\" stroke=\"black\" points=\"470,-146 577.5,-146\"/>\n",
       "<text text-anchor=\"middle\" x=\"523.75\" y=\"-128.7\" font-family=\"Times,serif\" font-size=\"14.00\">data 4.0000</text>\n",
       "<polyline fill=\"none\" stroke=\"black\" points=\"470,-120.75 577.5,-120.75\"/>\n",
       "<text text-anchor=\"middle\" x=\"523.75\" y=\"-103.45\" font-family=\"Times,serif\" font-size=\"14.00\">grad &#45;2.0000</text>\n",
       "</g>\n",
       "<!-- 140735939141296&#45;&gt;140735939142736* -->\n",
       "<g id=\"edge8\" class=\"edge\">\n",
       "<title>140735939141296&#45;&gt;140735939142736*</title>\n",
       "<path fill=\"none\" stroke=\"black\" d=\"M577.76,-111.2C587.61,-107.08 597.64,-102.89 606.66,-99.11\"/>\n",
       "<polygon fill=\"black\" stroke=\"black\" points=\"607.83,-102.42 615.7,-95.33 605.13,-95.96 607.83,-102.42\"/>\n",
       "</g>\n",
       "<!-- 140735939141296+ -->\n",
       "<g id=\"node4\" class=\"node\">\n",
       "<title>140735939141296+</title>\n",
       "<ellipse fill=\"none\" stroke=\"black\" cx=\"407\" cy=\"-133.38\" rx=\"27\" ry=\"18\"/>\n",
       "<text text-anchor=\"middle\" x=\"407\" y=\"-128.7\" font-family=\"Times,serif\" font-size=\"14.00\">+</text>\n",
       "</g>\n",
       "<!-- 140735939141296+&#45;&gt;140735939141296 -->\n",
       "<g id=\"edge2\" class=\"edge\">\n",
       "<title>140735939141296+&#45;&gt;140735939141296</title>\n",
       "<path fill=\"none\" stroke=\"black\" d=\"M434.33,-133.38C441.69,-133.38 450.02,-133.38 458.57,-133.38\"/>\n",
       "<polygon fill=\"black\" stroke=\"black\" points=\"458.33,-136.88 468.33,-133.38 458.33,-129.88 458.33,-136.88\"/>\n",
       "</g>\n",
       "<!-- 140735939133664 -->\n",
       "<g id=\"node5\" class=\"node\">\n",
       "<title>140735939133664</title>\n",
       "<polygon fill=\"none\" stroke=\"black\" points=\"470.75,-0.5 470.75,-76.25 576.75,-76.25 576.75,-0.5 470.75,-0.5\"/>\n",
       "<text text-anchor=\"middle\" x=\"523.75\" y=\"-58.95\" font-family=\"Times,serif\" font-size=\"14.00\">f</text>\n",
       "<polyline fill=\"none\" stroke=\"black\" points=\"470.75,-51 576.75,-51\"/>\n",
       "<text text-anchor=\"middle\" x=\"523.75\" y=\"-33.7\" font-family=\"Times,serif\" font-size=\"14.00\">data &#45;2.0000</text>\n",
       "<polyline fill=\"none\" stroke=\"black\" points=\"470.75,-25.75 576.75,-25.75\"/>\n",
       "<text text-anchor=\"middle\" x=\"523.75\" y=\"-8.45\" font-family=\"Times,serif\" font-size=\"14.00\">grad 4.0000</text>\n",
       "</g>\n",
       "<!-- 140735939133664&#45;&gt;140735939142736* -->\n",
       "<g id=\"edge4\" class=\"edge\">\n",
       "<title>140735939133664&#45;&gt;140735939142736*</title>\n",
       "<path fill=\"none\" stroke=\"black\" d=\"M577.09,-59.81C587.01,-63.87 597.13,-68.02 606.25,-71.76\"/>\n",
       "<polygon fill=\"black\" stroke=\"black\" points=\"604.82,-74.95 615.4,-75.51 607.48,-68.48 604.82,-74.95\"/>\n",
       "</g>\n",
       "<!-- 140735939142448 -->\n",
       "<g id=\"node6\" class=\"node\">\n",
       "<title>140735939142448</title>\n",
       "<polygon fill=\"none\" stroke=\"black\" points=\"0,-96.5 0,-172.25 107.5,-172.25 107.5,-96.5 0,-96.5\"/>\n",
       "<text text-anchor=\"middle\" x=\"53.75\" y=\"-154.95\" font-family=\"Times,serif\" font-size=\"14.00\">b</text>\n",
       "<polyline fill=\"none\" stroke=\"black\" points=\"0,-147 107.5,-147\"/>\n",
       "<text text-anchor=\"middle\" x=\"53.75\" y=\"-129.7\" font-family=\"Times,serif\" font-size=\"14.00\">data &#45;3.0000</text>\n",
       "<polyline fill=\"none\" stroke=\"black\" points=\"0,-121.75 107.5,-121.75\"/>\n",
       "<text text-anchor=\"middle\" x=\"53.75\" y=\"-104.45\" font-family=\"Times,serif\" font-size=\"14.00\">grad &#45;4.0000</text>\n",
       "</g>\n",
       "<!-- 140735939148160* -->\n",
       "<g id=\"node9\" class=\"node\">\n",
       "<title>140735939148160*</title>\n",
       "<ellipse fill=\"none\" stroke=\"black\" cx=\"170.5\" cy=\"-86.38\" rx=\"27\" ry=\"18\"/>\n",
       "<text text-anchor=\"middle\" x=\"170.5\" y=\"-81.7\" font-family=\"Times,serif\" font-size=\"14.00\">*</text>\n",
       "</g>\n",
       "<!-- 140735939142448&#45;&gt;140735939148160* -->\n",
       "<g id=\"edge7\" class=\"edge\">\n",
       "<title>140735939142448&#45;&gt;140735939148160*</title>\n",
       "<path fill=\"none\" stroke=\"black\" d=\"M107.76,-112.2C117.61,-108.08 127.64,-103.89 136.66,-100.11\"/>\n",
       "<polygon fill=\"black\" stroke=\"black\" points=\"137.83,-103.42 145.7,-96.33 135.13,-96.96 137.83,-103.42\"/>\n",
       "</g>\n",
       "<!-- 140735939148112 -->\n",
       "<g id=\"node7\" class=\"node\">\n",
       "<title>140735939148112</title>\n",
       "<polygon fill=\"none\" stroke=\"black\" points=\"233.5,-143.5 233.5,-219.25 344,-219.25 344,-143.5 233.5,-143.5\"/>\n",
       "<text text-anchor=\"middle\" x=\"288.75\" y=\"-201.95\" font-family=\"Times,serif\" font-size=\"14.00\">c</text>\n",
       "<polyline fill=\"none\" stroke=\"black\" points=\"233.5,-194 344,-194\"/>\n",
       "<text text-anchor=\"middle\" x=\"288.75\" y=\"-176.7\" font-family=\"Times,serif\" font-size=\"14.00\">data 10.0000</text>\n",
       "<polyline fill=\"none\" stroke=\"black\" points=\"233.5,-168.75 344,-168.75\"/>\n",
       "<text text-anchor=\"middle\" x=\"288.75\" y=\"-151.45\" font-family=\"Times,serif\" font-size=\"14.00\">grad &#45;2.0000</text>\n",
       "</g>\n",
       "<!-- 140735939148112&#45;&gt;140735939141296+ -->\n",
       "<g id=\"edge6\" class=\"edge\">\n",
       "<title>140735939148112&#45;&gt;140735939141296+</title>\n",
       "<path fill=\"none\" stroke=\"black\" d=\"M344.47,-158.78C354.16,-154.78 363.98,-150.73 372.84,-147.07\"/>\n",
       "<polygon fill=\"black\" stroke=\"black\" points=\"374.16,-150.31 382.07,-143.26 371.49,-143.84 374.16,-150.31\"/>\n",
       "</g>\n",
       "<!-- 140735939148160 -->\n",
       "<g id=\"node8\" class=\"node\">\n",
       "<title>140735939148160</title>\n",
       "<polygon fill=\"none\" stroke=\"black\" points=\"235,-48.5 235,-124.25 342.5,-124.25 342.5,-48.5 235,-48.5\"/>\n",
       "<text text-anchor=\"middle\" x=\"288.75\" y=\"-106.95\" font-family=\"Times,serif\" font-size=\"14.00\">e</text>\n",
       "<polyline fill=\"none\" stroke=\"black\" points=\"235,-99 342.5,-99\"/>\n",
       "<text text-anchor=\"middle\" x=\"288.75\" y=\"-81.7\" font-family=\"Times,serif\" font-size=\"14.00\">data &#45;6.0000</text>\n",
       "<polyline fill=\"none\" stroke=\"black\" points=\"235,-73.75 342.5,-73.75\"/>\n",
       "<text text-anchor=\"middle\" x=\"288.75\" y=\"-56.45\" font-family=\"Times,serif\" font-size=\"14.00\">grad &#45;2.0000</text>\n",
       "</g>\n",
       "<!-- 140735939148160&#45;&gt;140735939141296+ -->\n",
       "<g id=\"edge9\" class=\"edge\">\n",
       "<title>140735939148160&#45;&gt;140735939141296+</title>\n",
       "<path fill=\"none\" stroke=\"black\" d=\"M342.77,-107.81C353.02,-111.95 363.47,-116.18 372.86,-119.97\"/>\n",
       "<polygon fill=\"black\" stroke=\"black\" points=\"371.32,-123.13 381.9,-123.63 373.94,-116.64 371.32,-123.13\"/>\n",
       "</g>\n",
       "<!-- 140735939148160*&#45;&gt;140735939148160 -->\n",
       "<g id=\"edge3\" class=\"edge\">\n",
       "<title>140735939148160*&#45;&gt;140735939148160</title>\n",
       "<path fill=\"none\" stroke=\"black\" d=\"M197.88,-86.38C205.6,-86.38 214.41,-86.38 223.41,-86.38\"/>\n",
       "<polygon fill=\"black\" stroke=\"black\" points=\"223.35,-89.88 233.35,-86.38 223.35,-82.88 223.35,-89.88\"/>\n",
       "</g>\n",
       "<!-- 140736016517024 -->\n",
       "<g id=\"node10\" class=\"node\">\n",
       "<title>140736016517024</title>\n",
       "<polygon fill=\"none\" stroke=\"black\" points=\"2.25,-1.5 2.25,-77.25 105.25,-77.25 105.25,-1.5 2.25,-1.5\"/>\n",
       "<text text-anchor=\"middle\" x=\"53.75\" y=\"-59.95\" font-family=\"Times,serif\" font-size=\"14.00\">a</text>\n",
       "<polyline fill=\"none\" stroke=\"black\" points=\"2.25,-52 105.25,-52\"/>\n",
       "<text text-anchor=\"middle\" x=\"53.75\" y=\"-34.7\" font-family=\"Times,serif\" font-size=\"14.00\">data 2.0000</text>\n",
       "<polyline fill=\"none\" stroke=\"black\" points=\"2.25,-26.75 105.25,-26.75\"/>\n",
       "<text text-anchor=\"middle\" x=\"53.75\" y=\"-9.45\" font-family=\"Times,serif\" font-size=\"14.00\">grad 6.0000</text>\n",
       "</g>\n",
       "<!-- 140736016517024&#45;&gt;140735939148160* -->\n",
       "<g id=\"edge5\" class=\"edge\">\n",
       "<title>140736016517024&#45;&gt;140735939148160*</title>\n",
       "<path fill=\"none\" stroke=\"black\" d=\"M105.75,-60.26C116.07,-64.49 126.68,-68.84 136.2,-72.74\"/>\n",
       "<polygon fill=\"black\" stroke=\"black\" points=\"134.82,-75.95 145.4,-76.51 137.48,-69.48 134.82,-75.95\"/>\n",
       "</g>\n",
       "</g>\n",
       "</svg>\n"
      ],
      "text/plain": [
       "<graphviz.graphs.Digraph at 0x7fffa3a8cf80>"
      ]
     },
     "execution_count": 270,
     "metadata": {},
     "output_type": "execute_result"
    }
   ],
   "source": [
    "def lol():\n",
    "    a = Value(2.0, label=\"a\")\n",
    "    b = Value(-3.0, label=\"b\")\n",
    "    c = Value(10.0, label=\"c\")\n",
    "    e = a * b; e.label = \"e\"\n",
    "    d = e + c; d.label = \"d\"\n",
    "    f = Value(-2.0, label=\"f\")\n",
    "    L = d * f; L.label = \"Loss\"\n",
    "\n",
    "    L.grad = 1.0\n",
    "    f.grad = 4.0\n",
    "    e.grad = -2.0\n",
    "    d.grad = -2.0\n",
    "    c.grad = -2.0\n",
    "    b.grad = -4.0\n",
    "    a.grad = 6.0\n",
    "\n",
    "    return draw_dot(L)\n",
    "\n",
    "lol()"
   ]
  },
  {
   "cell_type": "markdown",
   "metadata": {},
   "source": [
    "If we go in the direction of the gradient, we will increase $L$"
   ]
  },
  {
   "cell_type": "code",
   "execution_count": 279,
   "metadata": {},
   "outputs": [
    {
     "name": "stdout",
     "output_type": "stream",
     "text": [
      "Value(data=-8.0)\n",
      "Value(data=-7.286496)\n"
     ]
    }
   ],
   "source": [
    "def lol():\n",
    "    a = Value(2.0, label=\"a\")\n",
    "    b = Value(-3.0, label=\"b\")\n",
    "    c = Value(10.0, label=\"c\")\n",
    "    e = a * b; e.label = \"e\"\n",
    "    d = e + c; d.label = \"d\"\n",
    "    f = Value(-2.0, label=\"f\")\n",
    "    L = d * f; L.label = \"Loss\"\n",
    "    print(L)\n",
    "\n",
    "    L.grad = 1.0\n",
    "    f.grad = 4.0\n",
    "    e.grad = -2.0\n",
    "    d.grad = -2.0\n",
    "    c.grad = -2.0\n",
    "    b.grad = -4.0\n",
    "    a.grad = 6.0\n",
    "\n",
    "    # We have control on the leaf nodes\n",
    "    rate = 0.01\n",
    "    a.data += rate * a.grad\n",
    "    b.data += rate * b.grad\n",
    "    c.data += rate * c.grad\n",
    "    f.data += rate * f.grad\n",
    "\n",
    "    # Forward pass\n",
    "    e = a * b\n",
    "    d = c + e\n",
    "    L = d * f\n",
    "    print(L)\n",
    "\n",
    "lol()"
   ]
  },
  {
   "cell_type": "markdown",
   "metadata": {},
   "source": []
  }
 ],
 "metadata": {
  "kernelspec": {
   "display_name": "Python 3 (ipykernel)",
   "language": "python",
   "name": "python3"
  },
  "language_info": {
   "codemirror_mode": {
    "name": "ipython",
    "version": 3
   },
   "file_extension": ".py",
   "mimetype": "text/x-python",
   "name": "python",
   "nbconvert_exporter": "python",
   "pygments_lexer": "ipython3",
   "version": "3.12.7"
  }
 },
 "nbformat": 4,
 "nbformat_minor": 2
}
